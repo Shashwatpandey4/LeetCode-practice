{
 "cells": [
  {
   "cell_type": "code",
   "execution_count": 17,
   "metadata": {},
   "outputs": [],
   "source": [
    "arr = [32,7,4,8,5,2,3,9,49,23,1,11,12,13,56,67,32]"
   ]
  },
  {
   "cell_type": "code",
   "execution_count": 22,
   "metadata": {},
   "outputs": [
    {
     "name": "stdout",
     "output_type": "stream",
     "text": [
      "True\n",
      "CPU times: user 1.96 ms, sys: 0 ns, total: 1.96 ms\n",
      "Wall time: 1.77 ms\n"
     ]
    }
   ],
   "source": [
    "%%time\n",
    "\n",
    "arr.sort()\n",
    "\n",
    "store = []\n",
    "\n",
    "i = 0\n",
    "while i<len(arr):\n",
    "    if arr[i] in store :\n",
    "        print(\"True\")\n",
    "        break\n",
    "    else:\n",
    "        store.append(arr[i])\n",
    "        i+=1\n",
    "else:\n",
    "    print(\"False\")\n",
    "\n"
   ]
  },
  {
   "cell_type": "code",
   "execution_count": 24,
   "metadata": {},
   "outputs": [
    {
     "name": "stdout",
     "output_type": "stream",
     "text": [
      "True\n",
      "CPU times: user 214 μs, sys: 0 ns, total: 214 μs\n",
      "Wall time: 193 μs\n"
     ]
    }
   ],
   "source": [
    "%%time\n",
    "\n",
    "arr.sort()\n",
    "\n",
    "store = []\n",
    "\n",
    "i = 0\n",
    "j = len(arr)-1\n",
    "\n",
    "while i<j:\n",
    "    if arr[i] in store or arr[j] in store:\n",
    "        print(\"True\")\n",
    "        break\n",
    "    else:\n",
    "        store.append(arr[i])\n",
    "        store.append(arr[j])\n",
    "        i+=1\n",
    "        j-=1\n",
    "else:\n",
    "    print(\"False\")\n",
    "\n"
   ]
  },
  {
   "cell_type": "code",
   "execution_count": 21,
   "metadata": {},
   "outputs": [
    {
     "name": "stdout",
     "output_type": "stream",
     "text": [
      "True\n",
      "CPU times: user 183 μs, sys: 27 μs, total: 210 μs\n",
      "Wall time: 184 μs\n"
     ]
    }
   ],
   "source": [
    "%%time\n",
    "\n",
    "arr.sort()\n",
    "for i in range(len(arr) - 1):\n",
    "    if arr[i] == arr[i + 1]:\n",
    "        print(\"True\")\n",
    "        break\n",
    "else:\n",
    "    print(\"False\")"
   ]
  },
  {
   "cell_type": "code",
   "execution_count": null,
   "metadata": {},
   "outputs": [
    {
     "data": {
      "text/plain": [
       "'\\n\\nwhen we are talking about finding duplicates in a sorted array, \\nso it means that the elements are adjacent to each other, in that case \\njust checking current and next values is enough.\\n\\nConclusion: Why Two-Pointer is Slower\\nMore Work Per Iteration: Two in checks and two appends vs. one of each.\\nPractical Overhead: Python’s operation cost doubles in Version 1, outweighing fewer iterations.\\nDuplicate Position: Version 1 doesn’t exploit sorted adjacency, and its stopping point depends on duplicates being in store from prior steps, not necessarily fewer iterations.\\n\\n\\n\\n'"
      ]
     },
     "execution_count": 28,
     "metadata": {},
     "output_type": "execute_result"
    }
   ],
   "source": [
    "\"\"\"\n",
    "\n",
    "Notes :\n",
    "\n",
    "when we are talking about finding duplicates in a sorted array, \n",
    "so it means that the elements are adjacent to each other, in that case \n",
    "just checking current and next values is enough.\n",
    "\n",
    "Conclusion: Why Two-Pointer is Slower\n",
    "More Work Per Iteration: Two in checks and two appends vs. one of each.\n",
    "Practical Overhead: Python’s operation cost doubles in Version 1, outweighing fewer iterations.\n",
    "Duplicate Position: Version 1 doesn’t exploit sorted adjacency, and its stopping point depends on duplicates being in store from prior steps, not necessarily fewer iterations.\n",
    "\n",
    "\n",
    "\n",
    "\"\"\""
   ]
  }
 ],
 "metadata": {
  "kernelspec": {
   "display_name": "Python 3",
   "language": "python",
   "name": "python3"
  },
  "language_info": {
   "codemirror_mode": {
    "name": "ipython",
    "version": 3
   },
   "file_extension": ".py",
   "mimetype": "text/x-python",
   "name": "python",
   "nbconvert_exporter": "python",
   "pygments_lexer": "ipython3",
   "version": "3.11.11"
  }
 },
 "nbformat": 4,
 "nbformat_minor": 2
}
